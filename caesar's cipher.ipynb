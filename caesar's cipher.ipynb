{
 "cells": [
  {
   "cell_type": "code",
   "execution_count": 42,
   "metadata": {},
   "outputs": [],
   "source": [
    "def main():\n",
    "    cipher=input(\"enter the coded string here\")\n",
    "    halo(cipher)\n",
    "    print(decipher)\n",
    "    "
   ]
  },
  {
   "cell_type": "code",
   "execution_count": 43,
   "metadata": {},
   "outputs": [],
   "source": [
    "def halo(cipher):\n",
    "    \n",
    "    \n",
    "\n",
    "    ascii_=[]\n",
    "    a=len(cipher)\n",
    "    for i in range (0,a,1):\n",
    "        ascii_.append(ord(cipher[i]))\n",
    "        if ascii_[i] == 65:\n",
    "            ascii_[i]=  90\n",
    "        elif ascii_[i] == 66:\n",
    "            ascii_[i]=  89    \n",
    "        elif ascii_[i] == 67:\n",
    "            ascii_[i]=  88  \n",
    "        elif ascii_[i] == 97:\n",
    "            ascii_[i]=  122\n",
    "        elif ascii_[i] == 98:\n",
    "            ascii_[i]=  121\n",
    "        elif ascii_[i] == 99:\n",
    "            ascii_[i]=  120\n",
    "        else:\n",
    "            ascii_[i]=ascii_[i] - 3\n",
    "            \n",
    "        ascii_[i]=chr(ascii_[i]) \n",
    "        decipher = ''.join(ascii_)\n",
    "        \n",
    "    return decipher    \n",
    "            \n",
    "            \n",
    "    \n",
    "        \n",
    "        "
   ]
  },
  {
   "cell_type": "code",
   "execution_count": 44,
   "metadata": {},
   "outputs": [
    {
     "name": "stdout",
     "output_type": "stream",
     "text": [
      "enter the coded string herejgjhfhcghcv\n",
      "kdxxgx\n"
     ]
    }
   ],
   "source": [
    "main()\n"
   ]
  },
  {
   "cell_type": "code",
   "execution_count": 10,
   "metadata": {},
   "outputs": [],
   "source": [
    "str2=\"dfsdfsd\""
   ]
  },
  {
   "cell_type": "code",
   "execution_count": 9,
   "metadata": {},
   "outputs": [],
   "source": [
    "str1=\"bdggeg\""
   ]
  },
  {
   "cell_type": "code",
   "execution_count": 11,
   "metadata": {},
   "outputs": [],
   "source": [
    "abc=[]"
   ]
  },
  {
   "cell_type": "code",
   "execution_count": 12,
   "metadata": {},
   "outputs": [],
   "source": [
    "abc.append(str1[4])"
   ]
  },
  {
   "cell_type": "code",
   "execution_count": 13,
   "metadata": {},
   "outputs": [
    {
     "data": {
      "text/plain": [
       "['e']"
      ]
     },
     "execution_count": 13,
     "metadata": {},
     "output_type": "execute_result"
    }
   ],
   "source": [
    "abc"
   ]
  },
  {
   "cell_type": "code",
   "execution_count": 34,
   "metadata": {},
   "outputs": [
    {
     "name": "stdout",
     "output_type": "stream",
     "text": [
      "hello\n",
      "hello\n",
      "hello\n"
     ]
    }
   ],
   "source": [
    "z=3\n",
    "for i in range(0,z,1):\n",
    "    print('hello')"
   ]
  },
  {
   "cell_type": "code",
   "execution_count": null,
   "metadata": {},
   "outputs": [],
   "source": []
  }
 ],
 "metadata": {
  "kernelspec": {
   "display_name": "Python 3",
   "language": "python",
   "name": "python3"
  },
  "language_info": {
   "codemirror_mode": {
    "name": "ipython",
    "version": 3
   },
   "file_extension": ".py",
   "mimetype": "text/x-python",
   "name": "python",
   "nbconvert_exporter": "python",
   "pygments_lexer": "ipython3",
   "version": "3.6.7"
  }
 },
 "nbformat": 4,
 "nbformat_minor": 2
}
